{
 "cells": [
  {
   "cell_type": "markdown",
   "id": "e2ceb2e0",
   "metadata": {},
   "source": [
    "# Data preparation"
   ]
  },
  {
   "cell_type": "code",
   "execution_count": 1,
   "id": "e325f5ff",
   "metadata": {},
   "outputs": [],
   "source": [
    "# Import libraries\n",
    "import pandas as pd\n",
    "import matplotlib.pyplot as plt\n",
    "import numpy as np \n",
    "import seaborn as sns"
   ]
  },
  {
   "cell_type": "code",
   "execution_count": 2,
   "id": "72af56fc",
   "metadata": {},
   "outputs": [],
   "source": [
    "# Import data\n",
    "file_path = \"glass_data.csv\"\n",
    "headers = ['RI', 'Na', 'Mg', 'Al', 'Si', 'K', 'Ca', 'Ba', 'Fe', 'Type']\n",
    "elements = ['Na', 'Mg', 'Al', 'Si', 'K', 'Ca', 'Ba', 'Fe']\n",
    "glass_df = pd.read_csv(file_path, sep=',', decimal='.', header=None, names=headers, index_col=0)"
   ]
  },
  {
   "cell_type": "code",
   "execution_count": 3,
   "id": "6a891f96",
   "metadata": {},
   "outputs": [
    {
     "data": {
      "text/html": [
       "<div>\n",
       "<style scoped>\n",
       "    .dataframe tbody tr th:only-of-type {\n",
       "        vertical-align: middle;\n",
       "    }\n",
       "\n",
       "    .dataframe tbody tr th {\n",
       "        vertical-align: top;\n",
       "    }\n",
       "\n",
       "    .dataframe thead th {\n",
       "        text-align: right;\n",
       "    }\n",
       "</style>\n",
       "<table border=\"1\" class=\"dataframe\">\n",
       "  <thead>\n",
       "    <tr style=\"text-align: right;\">\n",
       "      <th></th>\n",
       "      <th>RI</th>\n",
       "      <th>Na</th>\n",
       "      <th>Mg</th>\n",
       "      <th>Al</th>\n",
       "      <th>Si</th>\n",
       "      <th>K</th>\n",
       "      <th>Ca</th>\n",
       "      <th>Ba</th>\n",
       "      <th>Fe</th>\n",
       "      <th>Type</th>\n",
       "    </tr>\n",
       "  </thead>\n",
       "  <tbody>\n",
       "    <tr>\n",
       "      <th>1</th>\n",
       "      <td>1.52101</td>\n",
       "      <td>13.64</td>\n",
       "      <td>4.49</td>\n",
       "      <td>1.10</td>\n",
       "      <td>71.78</td>\n",
       "      <td>0.06</td>\n",
       "      <td>8.75</td>\n",
       "      <td>0.0</td>\n",
       "      <td>0.0</td>\n",
       "      <td>1</td>\n",
       "    </tr>\n",
       "    <tr>\n",
       "      <th>2</th>\n",
       "      <td>1.51761</td>\n",
       "      <td>13.89</td>\n",
       "      <td>3.60</td>\n",
       "      <td>1.36</td>\n",
       "      <td>72.73</td>\n",
       "      <td>0.48</td>\n",
       "      <td>7.83</td>\n",
       "      <td>0.0</td>\n",
       "      <td>0.0</td>\n",
       "      <td>1</td>\n",
       "    </tr>\n",
       "    <tr>\n",
       "      <th>3</th>\n",
       "      <td>1.51618</td>\n",
       "      <td>13.53</td>\n",
       "      <td>3.55</td>\n",
       "      <td>1.54</td>\n",
       "      <td>72.99</td>\n",
       "      <td>0.39</td>\n",
       "      <td>7.78</td>\n",
       "      <td>0.0</td>\n",
       "      <td>0.0</td>\n",
       "      <td>1</td>\n",
       "    </tr>\n",
       "    <tr>\n",
       "      <th>4</th>\n",
       "      <td>1.51766</td>\n",
       "      <td>13.21</td>\n",
       "      <td>3.69</td>\n",
       "      <td>1.29</td>\n",
       "      <td>72.61</td>\n",
       "      <td>0.57</td>\n",
       "      <td>8.22</td>\n",
       "      <td>0.0</td>\n",
       "      <td>0.0</td>\n",
       "      <td>1</td>\n",
       "    </tr>\n",
       "    <tr>\n",
       "      <th>5</th>\n",
       "      <td>1.51742</td>\n",
       "      <td>13.27</td>\n",
       "      <td>3.62</td>\n",
       "      <td>1.24</td>\n",
       "      <td>73.08</td>\n",
       "      <td>0.55</td>\n",
       "      <td>8.07</td>\n",
       "      <td>0.0</td>\n",
       "      <td>0.0</td>\n",
       "      <td>1</td>\n",
       "    </tr>\n",
       "  </tbody>\n",
       "</table>\n",
       "</div>"
      ],
      "text/plain": [
       "        RI     Na    Mg    Al     Si     K    Ca   Ba   Fe  Type\n",
       "1  1.52101  13.64  4.49  1.10  71.78  0.06  8.75  0.0  0.0     1\n",
       "2  1.51761  13.89  3.60  1.36  72.73  0.48  7.83  0.0  0.0     1\n",
       "3  1.51618  13.53  3.55  1.54  72.99  0.39  7.78  0.0  0.0     1\n",
       "4  1.51766  13.21  3.69  1.29  72.61  0.57  8.22  0.0  0.0     1\n",
       "5  1.51742  13.27  3.62  1.24  73.08  0.55  8.07  0.0  0.0     1"
      ]
     },
     "execution_count": 3,
     "metadata": {},
     "output_type": "execute_result"
    }
   ],
   "source": [
    "glass_df.head()"
   ]
  },
  {
   "cell_type": "markdown",
   "id": "4e368a34",
   "metadata": {},
   "source": [
    "## Examnine data shape, entry errors and missing values"
   ]
  },
  {
   "cell_type": "code",
   "execution_count": 4,
   "id": "ebcc922d",
   "metadata": {},
   "outputs": [
    {
     "data": {
      "text/plain": [
       "(214, 10)"
      ]
     },
     "execution_count": 4,
     "metadata": {},
     "output_type": "execute_result"
    }
   ],
   "source": [
    "# Shape of data\n",
    "glass_df.shape"
   ]
  },
  {
   "cell_type": "code",
   "execution_count": 5,
   "id": "2eb35ebc",
   "metadata": {},
   "outputs": [
    {
     "name": "stdout",
     "output_type": "stream",
     "text": [
      "<class 'pandas.core.frame.DataFrame'>\n",
      "Int64Index: 214 entries, 1 to 214\n",
      "Data columns (total 10 columns):\n",
      " #   Column  Non-Null Count  Dtype  \n",
      "---  ------  --------------  -----  \n",
      " 0   RI      214 non-null    float64\n",
      " 1   Na      214 non-null    float64\n",
      " 2   Mg      214 non-null    float64\n",
      " 3   Al      214 non-null    float64\n",
      " 4   Si      214 non-null    float64\n",
      " 5   K       214 non-null    float64\n",
      " 6   Ca      214 non-null    float64\n",
      " 7   Ba      214 non-null    float64\n",
      " 8   Fe      214 non-null    float64\n",
      " 9   Type    214 non-null    int64  \n",
      "dtypes: float64(9), int64(1)\n",
      "memory usage: 18.4 KB\n"
     ]
    }
   ],
   "source": [
    "glass_df.info()"
   ]
  },
  {
   "cell_type": "markdown",
   "id": "afab334c",
   "metadata": {},
   "source": [
    "The description indicates that:\n",
    "- The attributes are all numeric types. There are no data type entry errors.\n",
    "- The number of instances is 214, which matches the number of attributes in each column. We deduce that there is no missing values in the dataset.\n"
   ]
  },
  {
   "cell_type": "code",
   "execution_count": 6,
   "id": "64730e92",
   "metadata": {},
   "outputs": [
    {
     "data": {
      "text/html": [
       "<div>\n",
       "<style scoped>\n",
       "    .dataframe tbody tr th:only-of-type {\n",
       "        vertical-align: middle;\n",
       "    }\n",
       "\n",
       "    .dataframe tbody tr th {\n",
       "        vertical-align: top;\n",
       "    }\n",
       "\n",
       "    .dataframe thead th {\n",
       "        text-align: right;\n",
       "    }\n",
       "</style>\n",
       "<table border=\"1\" class=\"dataframe\">\n",
       "  <thead>\n",
       "    <tr style=\"text-align: right;\">\n",
       "      <th></th>\n",
       "      <th>RI</th>\n",
       "      <th>Na</th>\n",
       "      <th>Mg</th>\n",
       "      <th>Al</th>\n",
       "      <th>Si</th>\n",
       "      <th>K</th>\n",
       "      <th>Ca</th>\n",
       "      <th>Ba</th>\n",
       "      <th>Fe</th>\n",
       "    </tr>\n",
       "    <tr>\n",
       "      <th>Type</th>\n",
       "      <th></th>\n",
       "      <th></th>\n",
       "      <th></th>\n",
       "      <th></th>\n",
       "      <th></th>\n",
       "      <th></th>\n",
       "      <th></th>\n",
       "      <th></th>\n",
       "      <th></th>\n",
       "    </tr>\n",
       "  </thead>\n",
       "  <tbody>\n",
       "    <tr>\n",
       "      <th>1</th>\n",
       "      <td>70</td>\n",
       "      <td>70</td>\n",
       "      <td>70</td>\n",
       "      <td>70</td>\n",
       "      <td>70</td>\n",
       "      <td>70</td>\n",
       "      <td>70</td>\n",
       "      <td>70</td>\n",
       "      <td>70</td>\n",
       "    </tr>\n",
       "    <tr>\n",
       "      <th>2</th>\n",
       "      <td>76</td>\n",
       "      <td>76</td>\n",
       "      <td>76</td>\n",
       "      <td>76</td>\n",
       "      <td>76</td>\n",
       "      <td>76</td>\n",
       "      <td>76</td>\n",
       "      <td>76</td>\n",
       "      <td>76</td>\n",
       "    </tr>\n",
       "    <tr>\n",
       "      <th>3</th>\n",
       "      <td>17</td>\n",
       "      <td>17</td>\n",
       "      <td>17</td>\n",
       "      <td>17</td>\n",
       "      <td>17</td>\n",
       "      <td>17</td>\n",
       "      <td>17</td>\n",
       "      <td>17</td>\n",
       "      <td>17</td>\n",
       "    </tr>\n",
       "    <tr>\n",
       "      <th>5</th>\n",
       "      <td>13</td>\n",
       "      <td>13</td>\n",
       "      <td>13</td>\n",
       "      <td>13</td>\n",
       "      <td>13</td>\n",
       "      <td>13</td>\n",
       "      <td>13</td>\n",
       "      <td>13</td>\n",
       "      <td>13</td>\n",
       "    </tr>\n",
       "    <tr>\n",
       "      <th>6</th>\n",
       "      <td>9</td>\n",
       "      <td>9</td>\n",
       "      <td>9</td>\n",
       "      <td>9</td>\n",
       "      <td>9</td>\n",
       "      <td>9</td>\n",
       "      <td>9</td>\n",
       "      <td>9</td>\n",
       "      <td>9</td>\n",
       "    </tr>\n",
       "    <tr>\n",
       "      <th>7</th>\n",
       "      <td>29</td>\n",
       "      <td>29</td>\n",
       "      <td>29</td>\n",
       "      <td>29</td>\n",
       "      <td>29</td>\n",
       "      <td>29</td>\n",
       "      <td>29</td>\n",
       "      <td>29</td>\n",
       "      <td>29</td>\n",
       "    </tr>\n",
       "  </tbody>\n",
       "</table>\n",
       "</div>"
      ],
      "text/plain": [
       "      RI  Na  Mg  Al  Si   K  Ca  Ba  Fe\n",
       "Type                                    \n",
       "1     70  70  70  70  70  70  70  70  70\n",
       "2     76  76  76  76  76  76  76  76  76\n",
       "3     17  17  17  17  17  17  17  17  17\n",
       "5     13  13  13  13  13  13  13  13  13\n",
       "6      9   9   9   9   9   9   9   9   9\n",
       "7     29  29  29  29  29  29  29  29  29"
      ]
     },
     "execution_count": 6,
     "metadata": {},
     "output_type": "execute_result"
    }
   ],
   "source": [
    "glass_df.groupby('Type').count()"
   ]
  },
  {
   "cell_type": "markdown",
   "id": "4b57a39d",
   "metadata": {},
   "source": [
    "## Examine impossible values and outliers"
   ]
  },
  {
   "cell_type": "markdown",
   "id": "ced38f02",
   "metadata": {},
   "source": [
    "We further detects impossible values and outliers in the dataset using boxplot. Here, the outliers are identified via IQR method. That means, a value is considered in outlier if it is outside the range of Q3-Q1 interquatile range. (ref)"
   ]
  },
  {
   "cell_type": "code",
   "execution_count": 7,
   "id": "89639a98",
   "metadata": {},
   "outputs": [
    {
     "data": {
      "text/plain": [
       "Text(0.5, 0.98, 'Chemical element distribution in glass')"
      ]
     },
     "execution_count": 7,
     "metadata": {},
     "output_type": "execute_result"
    },
    {
     "data": {
      "image/png": "[encoded data removed]",
      "text/plain": [
       "<Figure size 720x720 with 9 Axes>"
      ]
     },
     "metadata": {
      "needs_background": "light"
     },
     "output_type": "display_data"
    }
   ],
   "source": [
    "fig, axes = plt.subplots(3,3, figsize=(10,10))\n",
    "\n",
    "for i in range(len(headers)-1):\n",
    "    a = glass_df.boxplot(column=headers[i], ax = axes.flatten()[i], figsize=(12,8))\n",
    "fig.suptitle('Chemical element distribution in glass', fontsize=15)"
   ]
  },
  {
   "cell_type": "markdown",
   "id": "58f8a739",
   "metadata": {},
   "source": [
    "From the boxplot, it can be observed that:\n",
    "- Most of the figures have outliers, except for Magnesium.\n",
    "- Boxplot figure is not applied well for Barium, so we cannot decide whether it has outliers or not. \n",
    "- Apart from Na and K, other elements have an excessive number of outliers.\n",
    "\n",
    "However, we do not have enough evidence to consider the out of range values as outliers, since it could be a proportion indicating new source of glass. Thus, these outliers should be kept in the dataset."
   ]
  },
  {
   "cell_type": "markdown",
   "id": "f28e19d4",
   "metadata": {},
   "source": [
    "For the elemental composition, the impossible values can be evaluated via two criteria:\n",
    "- The weight percentage of the oxides should be >= 0 and < 100. \n",
    "- The sum of the weight percentages of the corresponding oxides in a glass composition should not be > 100%. It can be less than 100%, because there might be impurities in the composition. https://www.geeksforgeeks.org/percent-by-weight-formula/\n",
    "\n",
    "For the refractive index, general glass fractive index cannot be negative.  https://www.asdlib.org/onlineArticles/elabware/thompson/Glass/Glass(RI)PFaculty.pdf\n",
    "\n",
    "If a fragment (a row) does not satisfy these criteria, it should be eliminated from the dataset."
   ]
  },
  {
   "cell_type": "code",
   "execution_count": 8,
   "id": "0db67c7f",
   "metadata": {},
   "outputs": [
    {
     "data": {
      "text/plain": [
       "Na    False\n",
       "Mg    False\n",
       "Al    False\n",
       "Si    False\n",
       "K     False\n",
       "Ca    False\n",
       "Ba    False\n",
       "Fe    False\n",
       "dtype: bool"
      ]
     },
     "execution_count": 8,
     "metadata": {},
     "output_type": "execute_result"
    }
   ],
   "source": [
    "# Examine weight percentage of each element if it is out of range (0,100)\n",
    "out_of_range = ((glass_df[elements] < 0) | (glass_df[elements] >= 100)).any()\n",
    "out_of_range"
   ]
  },
  {
   "cell_type": "code",
   "execution_count": 9,
   "id": "505011a7",
   "metadata": {},
   "outputs": [
    {
     "data": {
      "text/html": [
       "<div>\n",
       "<style scoped>\n",
       "    .dataframe tbody tr th:only-of-type {\n",
       "        vertical-align: middle;\n",
       "    }\n",
       "\n",
       "    .dataframe tbody tr th {\n",
       "        vertical-align: top;\n",
       "    }\n",
       "\n",
       "    .dataframe thead th {\n",
       "        text-align: right;\n",
       "    }\n",
       "</style>\n",
       "<table border=\"1\" class=\"dataframe\">\n",
       "  <thead>\n",
       "    <tr style=\"text-align: right;\">\n",
       "      <th></th>\n",
       "      <th>Na</th>\n",
       "      <th>Mg</th>\n",
       "      <th>Al</th>\n",
       "      <th>Si</th>\n",
       "      <th>K</th>\n",
       "      <th>Ca</th>\n",
       "      <th>Ba</th>\n",
       "      <th>Fe</th>\n",
       "      <th>Sum</th>\n",
       "    </tr>\n",
       "  </thead>\n",
       "  <tbody>\n",
       "    <tr>\n",
       "      <th>10</th>\n",
       "      <td>13.00</td>\n",
       "      <td>3.60</td>\n",
       "      <td>1.36</td>\n",
       "      <td>72.99</td>\n",
       "      <td>0.57</td>\n",
       "      <td>8.40</td>\n",
       "      <td>0.00</td>\n",
       "      <td>0.11</td>\n",
       "      <td>100.03</td>\n",
       "    </tr>\n",
       "    <tr>\n",
       "      <th>20</th>\n",
       "      <td>13.02</td>\n",
       "      <td>3.54</td>\n",
       "      <td>1.69</td>\n",
       "      <td>72.73</td>\n",
       "      <td>0.54</td>\n",
       "      <td>8.44</td>\n",
       "      <td>0.00</td>\n",
       "      <td>0.07</td>\n",
       "      <td>100.03</td>\n",
       "    </tr>\n",
       "    <tr>\n",
       "      <th>31</th>\n",
       "      <td>12.65</td>\n",
       "      <td>3.56</td>\n",
       "      <td>1.30</td>\n",
       "      <td>73.08</td>\n",
       "      <td>0.61</td>\n",
       "      <td>8.69</td>\n",
       "      <td>0.00</td>\n",
       "      <td>0.14</td>\n",
       "      <td>100.03</td>\n",
       "    </tr>\n",
       "    <tr>\n",
       "      <th>33</th>\n",
       "      <td>12.85</td>\n",
       "      <td>3.48</td>\n",
       "      <td>1.23</td>\n",
       "      <td>72.97</td>\n",
       "      <td>0.61</td>\n",
       "      <td>8.56</td>\n",
       "      <td>0.09</td>\n",
       "      <td>0.22</td>\n",
       "      <td>100.01</td>\n",
       "    </tr>\n",
       "    <tr>\n",
       "      <th>34</th>\n",
       "      <td>12.57</td>\n",
       "      <td>3.47</td>\n",
       "      <td>1.38</td>\n",
       "      <td>73.39</td>\n",
       "      <td>0.60</td>\n",
       "      <td>8.55</td>\n",
       "      <td>0.00</td>\n",
       "      <td>0.06</td>\n",
       "      <td>100.02</td>\n",
       "    </tr>\n",
       "    <tr>\n",
       "      <th>47</th>\n",
       "      <td>13.19</td>\n",
       "      <td>3.37</td>\n",
       "      <td>1.18</td>\n",
       "      <td>72.72</td>\n",
       "      <td>0.57</td>\n",
       "      <td>8.83</td>\n",
       "      <td>0.00</td>\n",
       "      <td>0.16</td>\n",
       "      <td>100.02</td>\n",
       "    </tr>\n",
       "    <tr>\n",
       "      <th>51</th>\n",
       "      <td>13.72</td>\n",
       "      <td>3.72</td>\n",
       "      <td>0.51</td>\n",
       "      <td>71.75</td>\n",
       "      <td>0.09</td>\n",
       "      <td>10.06</td>\n",
       "      <td>0.00</td>\n",
       "      <td>0.16</td>\n",
       "      <td>100.01</td>\n",
       "    </tr>\n",
       "    <tr>\n",
       "      <th>52</th>\n",
       "      <td>13.20</td>\n",
       "      <td>3.33</td>\n",
       "      <td>1.28</td>\n",
       "      <td>72.36</td>\n",
       "      <td>0.60</td>\n",
       "      <td>9.14</td>\n",
       "      <td>0.00</td>\n",
       "      <td>0.11</td>\n",
       "      <td>100.02</td>\n",
       "    </tr>\n",
       "    <tr>\n",
       "      <th>56</th>\n",
       "      <td>12.45</td>\n",
       "      <td>2.71</td>\n",
       "      <td>1.29</td>\n",
       "      <td>73.70</td>\n",
       "      <td>0.56</td>\n",
       "      <td>9.06</td>\n",
       "      <td>0.00</td>\n",
       "      <td>0.24</td>\n",
       "      <td>100.01</td>\n",
       "    </tr>\n",
       "    <tr>\n",
       "      <th>68</th>\n",
       "      <td>13.05</td>\n",
       "      <td>3.65</td>\n",
       "      <td>0.87</td>\n",
       "      <td>72.32</td>\n",
       "      <td>0.19</td>\n",
       "      <td>9.85</td>\n",
       "      <td>0.00</td>\n",
       "      <td>0.17</td>\n",
       "      <td>100.10</td>\n",
       "    </tr>\n",
       "    <tr>\n",
       "      <th>69</th>\n",
       "      <td>13.12</td>\n",
       "      <td>3.58</td>\n",
       "      <td>0.90</td>\n",
       "      <td>72.20</td>\n",
       "      <td>0.23</td>\n",
       "      <td>9.82</td>\n",
       "      <td>0.00</td>\n",
       "      <td>0.16</td>\n",
       "      <td>100.01</td>\n",
       "    </tr>\n",
       "    <tr>\n",
       "      <th>70</th>\n",
       "      <td>13.31</td>\n",
       "      <td>3.58</td>\n",
       "      <td>0.82</td>\n",
       "      <td>71.99</td>\n",
       "      <td>0.12</td>\n",
       "      <td>10.17</td>\n",
       "      <td>0.00</td>\n",
       "      <td>0.03</td>\n",
       "      <td>100.02</td>\n",
       "    </tr>\n",
       "    <tr>\n",
       "      <th>79</th>\n",
       "      <td>13.92</td>\n",
       "      <td>3.52</td>\n",
       "      <td>1.25</td>\n",
       "      <td>72.88</td>\n",
       "      <td>0.37</td>\n",
       "      <td>7.94</td>\n",
       "      <td>0.00</td>\n",
       "      <td>0.14</td>\n",
       "      <td>100.02</td>\n",
       "    </tr>\n",
       "    <tr>\n",
       "      <th>93</th>\n",
       "      <td>13.12</td>\n",
       "      <td>3.41</td>\n",
       "      <td>1.58</td>\n",
       "      <td>73.26</td>\n",
       "      <td>0.07</td>\n",
       "      <td>8.39</td>\n",
       "      <td>0.00</td>\n",
       "      <td>0.19</td>\n",
       "      <td>100.02</td>\n",
       "    </tr>\n",
       "    <tr>\n",
       "      <th>108</th>\n",
       "      <td>12.30</td>\n",
       "      <td>0.00</td>\n",
       "      <td>1.00</td>\n",
       "      <td>70.16</td>\n",
       "      <td>0.12</td>\n",
       "      <td>16.19</td>\n",
       "      <td>0.00</td>\n",
       "      <td>0.24</td>\n",
       "      <td>100.01</td>\n",
       "    </tr>\n",
       "    <tr>\n",
       "      <th>114</th>\n",
       "      <td>13.46</td>\n",
       "      <td>3.83</td>\n",
       "      <td>1.26</td>\n",
       "      <td>72.55</td>\n",
       "      <td>0.57</td>\n",
       "      <td>8.21</td>\n",
       "      <td>0.00</td>\n",
       "      <td>0.14</td>\n",
       "      <td>100.02</td>\n",
       "    </tr>\n",
       "    <tr>\n",
       "      <th>129</th>\n",
       "      <td>13.55</td>\n",
       "      <td>2.09</td>\n",
       "      <td>1.67</td>\n",
       "      <td>72.18</td>\n",
       "      <td>0.53</td>\n",
       "      <td>9.57</td>\n",
       "      <td>0.27</td>\n",
       "      <td>0.17</td>\n",
       "      <td>100.03</td>\n",
       "    </tr>\n",
       "    <tr>\n",
       "      <th>132</th>\n",
       "      <td>13.70</td>\n",
       "      <td>0.00</td>\n",
       "      <td>1.36</td>\n",
       "      <td>71.24</td>\n",
       "      <td>0.19</td>\n",
       "      <td>13.44</td>\n",
       "      <td>0.00</td>\n",
       "      <td>0.10</td>\n",
       "      <td>100.03</td>\n",
       "    </tr>\n",
       "    <tr>\n",
       "      <th>137</th>\n",
       "      <td>13.00</td>\n",
       "      <td>3.80</td>\n",
       "      <td>1.08</td>\n",
       "      <td>73.07</td>\n",
       "      <td>0.56</td>\n",
       "      <td>8.38</td>\n",
       "      <td>0.00</td>\n",
       "      <td>0.12</td>\n",
       "      <td>100.01</td>\n",
       "    </tr>\n",
       "    <tr>\n",
       "      <th>143</th>\n",
       "      <td>12.85</td>\n",
       "      <td>3.51</td>\n",
       "      <td>1.44</td>\n",
       "      <td>73.01</td>\n",
       "      <td>0.68</td>\n",
       "      <td>8.23</td>\n",
       "      <td>0.06</td>\n",
       "      <td>0.25</td>\n",
       "      <td>100.03</td>\n",
       "    </tr>\n",
       "    <tr>\n",
       "      <th>152</th>\n",
       "      <td>14.32</td>\n",
       "      <td>3.90</td>\n",
       "      <td>0.83</td>\n",
       "      <td>71.50</td>\n",
       "      <td>0.00</td>\n",
       "      <td>9.49</td>\n",
       "      <td>0.00</td>\n",
       "      <td>0.00</td>\n",
       "      <td>100.04</td>\n",
       "    </tr>\n",
       "    <tr>\n",
       "      <th>162</th>\n",
       "      <td>13.64</td>\n",
       "      <td>3.54</td>\n",
       "      <td>0.75</td>\n",
       "      <td>72.65</td>\n",
       "      <td>0.16</td>\n",
       "      <td>8.89</td>\n",
       "      <td>0.15</td>\n",
       "      <td>0.24</td>\n",
       "      <td>100.02</td>\n",
       "    </tr>\n",
       "    <tr>\n",
       "      <th>175</th>\n",
       "      <td>12.85</td>\n",
       "      <td>1.61</td>\n",
       "      <td>2.17</td>\n",
       "      <td>72.18</td>\n",
       "      <td>0.76</td>\n",
       "      <td>9.70</td>\n",
       "      <td>0.24</td>\n",
       "      <td>0.51</td>\n",
       "      <td>100.02</td>\n",
       "    </tr>\n",
       "    <tr>\n",
       "      <th>193</th>\n",
       "      <td>14.20</td>\n",
       "      <td>0.00</td>\n",
       "      <td>2.79</td>\n",
       "      <td>73.46</td>\n",
       "      <td>0.04</td>\n",
       "      <td>9.04</td>\n",
       "      <td>0.40</td>\n",
       "      <td>0.09</td>\n",
       "      <td>100.02</td>\n",
       "    </tr>\n",
       "    <tr>\n",
       "      <th>196</th>\n",
       "      <td>14.14</td>\n",
       "      <td>0.00</td>\n",
       "      <td>2.68</td>\n",
       "      <td>73.39</td>\n",
       "      <td>0.08</td>\n",
       "      <td>9.07</td>\n",
       "      <td>0.61</td>\n",
       "      <td>0.05</td>\n",
       "      <td>100.02</td>\n",
       "    </tr>\n",
       "    <tr>\n",
       "      <th>197</th>\n",
       "      <td>13.87</td>\n",
       "      <td>0.00</td>\n",
       "      <td>2.54</td>\n",
       "      <td>73.23</td>\n",
       "      <td>0.14</td>\n",
       "      <td>9.41</td>\n",
       "      <td>0.81</td>\n",
       "      <td>0.01</td>\n",
       "      <td>100.01</td>\n",
       "    </tr>\n",
       "  </tbody>\n",
       "</table>\n",
       "</div>"
      ],
      "text/plain": [
       "        Na    Mg    Al     Si     K     Ca    Ba    Fe     Sum\n",
       "10   13.00  3.60  1.36  72.99  0.57   8.40  0.00  0.11  100.03\n",
       "20   13.02  3.54  1.69  72.73  0.54   8.44  0.00  0.07  100.03\n",
       "31   12.65  3.56  1.30  73.08  0.61   8.69  0.00  0.14  100.03\n",
       "33   12.85  3.48  1.23  72.97  0.61   8.56  0.09  0.22  100.01\n",
       "34   12.57  3.47  1.38  73.39  0.60   8.55  0.00  0.06  100.02\n",
       "47   13.19  3.37  1.18  72.72  0.57   8.83  0.00  0.16  100.02\n",
       "51   13.72  3.72  0.51  71.75  0.09  10.06  0.00  0.16  100.01\n",
       "52   13.20  3.33  1.28  72.36  0.60   9.14  0.00  0.11  100.02\n",
       "56   12.45  2.71  1.29  73.70  0.56   9.06  0.00  0.24  100.01\n",
       "68   13.05  3.65  0.87  72.32  0.19   9.85  0.00  0.17  100.10\n",
       "69   13.12  3.58  0.90  72.20  0.23   9.82  0.00  0.16  100.01\n",
       "70   13.31  3.58  0.82  71.99  0.12  10.17  0.00  0.03  100.02\n",
       "79   13.92  3.52  1.25  72.88  0.37   7.94  0.00  0.14  100.02\n",
       "93   13.12  3.41  1.58  73.26  0.07   8.39  0.00  0.19  100.02\n",
       "108  12.30  0.00  1.00  70.16  0.12  16.19  0.00  0.24  100.01\n",
       "114  13.46  3.83  1.26  72.55  0.57   8.21  0.00  0.14  100.02\n",
       "129  13.55  2.09  1.67  72.18  0.53   9.57  0.27  0.17  100.03\n",
       "132  13.70  0.00  1.36  71.24  0.19  13.44  0.00  0.10  100.03\n",
       "137  13.00  3.80  1.08  73.07  0.56   8.38  0.00  0.12  100.01\n",
       "143  12.85  3.51  1.44  73.01  0.68   8.23  0.06  0.25  100.03\n",
       "152  14.32  3.90  0.83  71.50  0.00   9.49  0.00  0.00  100.04\n",
       "162  13.64  3.54  0.75  72.65  0.16   8.89  0.15  0.24  100.02\n",
       "175  12.85  1.61  2.17  72.18  0.76   9.70  0.24  0.51  100.02\n",
       "193  14.20  0.00  2.79  73.46  0.04   9.04  0.40  0.09  100.02\n",
       "196  14.14  0.00  2.68  73.39  0.08   9.07  0.61  0.05  100.02\n",
       "197  13.87  0.00  2.54  73.23  0.14   9.41  0.81  0.01  100.01"
      ]
     },
     "execution_count": 9,
     "metadata": {},
     "output_type": "execute_result"
    }
   ],
   "source": [
    "# Examine the sum of weight percentage\n",
    "weight_percentage_sum = glass_df[elements].sum(axis=1)\n",
    "larger_than_100 = weight_percentage_sum.loc[weight_percentage_sum > 100.00001]\n",
    "larger_than_100.name='Sum'\n",
    "larger_than_100_df = glass_df[elements].loc[larger_than_100.index.tolist()]\n",
    "larger_than_100_df.join(larger_than_100)"
   ]
  },
  {
   "cell_type": "code",
   "execution_count": 10,
   "id": "8e49a2e1",
   "metadata": {},
   "outputs": [
    {
     "data": {
      "text/plain": [
       "26"
      ]
     },
     "execution_count": 10,
     "metadata": {},
     "output_type": "execute_result"
    }
   ],
   "source": [
    "larger_than_100.count()"
   ]
  },
  {
   "cell_type": "markdown",
   "id": "ee41c2aa",
   "metadata": {},
   "source": [
    "Observing the weight percentage summation, there are 26 rows having the summation larger than 100, with minor deviations from 0.01 to 0.1. These small variations can be explained by measurement and rounding errors. Hence, the values are acceptable, with the belief that it would introduce little error in the modelling stage."
   ]
  },
  {
   "cell_type": "code",
   "execution_count": 11,
   "id": "bb4a0c04",
   "metadata": {},
   "outputs": [
    {
     "data": {
      "text/plain": [
       "False"
      ]
     },
     "execution_count": 11,
     "metadata": {},
     "output_type": "execute_result"
    }
   ],
   "source": [
    "# Examine the refractive index\n",
    "(glass_df['RI'] < 0).any() "
   ]
  },
  {
   "cell_type": "markdown",
   "id": "2d47ec6c",
   "metadata": {},
   "source": [
    "There is no negative value of RI. However, it can be seen that the unit measurement of RI is different from other elements. Therefore, the dataset might need to be standardized prior the model building stage."
   ]
  },
  {
   "cell_type": "markdown",
   "id": "64a9f2fc",
   "metadata": {},
   "source": [
    "# Data exploration"
   ]
  },
  {
   "cell_type": "markdown",
   "id": "93794ae4",
   "metadata": {},
   "source": [
    "## Data distribution"
   ]
  },
  {
   "cell_type": "code",
   "execution_count": 76,
   "id": "d4443222",
   "metadata": {},
   "outputs": [
    {
     "data": {
      "text/html": [
       "<div>\n",
       "<style scoped>\n",
       "    .dataframe tbody tr th:only-of-type {\n",
       "        vertical-align: middle;\n",
       "    }\n",
       "\n",
       "    .dataframe tbody tr th {\n",
       "        vertical-align: top;\n",
       "    }\n",
       "\n",
       "    .dataframe thead th {\n",
       "        text-align: right;\n",
       "    }\n",
       "</style>\n",
       "<table border=\"1\" class=\"dataframe\">\n",
       "  <thead>\n",
       "    <tr style=\"text-align: right;\">\n",
       "      <th></th>\n",
       "      <th>Al</th>\n",
       "      <th>Ba</th>\n",
       "      <th>Ca</th>\n",
       "      <th>Fe</th>\n",
       "      <th>K</th>\n",
       "      <th>Mg</th>\n",
       "      <th>Na</th>\n",
       "      <th>RI</th>\n",
       "      <th>Si</th>\n",
       "    </tr>\n",
       "  </thead>\n",
       "  <tbody>\n",
       "    <tr>\n",
       "      <th>count</th>\n",
       "      <td>214.00</td>\n",
       "      <td>214.00</td>\n",
       "      <td>214.00</td>\n",
       "      <td>214.00</td>\n",
       "      <td>214.00</td>\n",
       "      <td>214.00</td>\n",
       "      <td>214.00</td>\n",
       "      <td>214.00</td>\n",
       "      <td>214.00</td>\n",
       "    </tr>\n",
       "    <tr>\n",
       "      <th>mean</th>\n",
       "      <td>1.44</td>\n",
       "      <td>0.18</td>\n",
       "      <td>8.96</td>\n",
       "      <td>0.06</td>\n",
       "      <td>0.50</td>\n",
       "      <td>2.68</td>\n",
       "      <td>13.41</td>\n",
       "      <td>1.52</td>\n",
       "      <td>72.65</td>\n",
       "    </tr>\n",
       "    <tr>\n",
       "      <th>std</th>\n",
       "      <td>0.50</td>\n",
       "      <td>0.50</td>\n",
       "      <td>1.42</td>\n",
       "      <td>0.10</td>\n",
       "      <td>0.65</td>\n",
       "      <td>1.44</td>\n",
       "      <td>0.82</td>\n",
       "      <td>0.00</td>\n",
       "      <td>0.77</td>\n",
       "    </tr>\n",
       "    <tr>\n",
       "      <th>min</th>\n",
       "      <td>0.29</td>\n",
       "      <td>0.00</td>\n",
       "      <td>5.43</td>\n",
       "      <td>0.00</td>\n",
       "      <td>0.00</td>\n",
       "      <td>0.00</td>\n",
       "      <td>10.73</td>\n",
       "      <td>1.51</td>\n",
       "      <td>69.81</td>\n",
       "    </tr>\n",
       "    <tr>\n",
       "      <th>25%</th>\n",
       "      <td>1.19</td>\n",
       "      <td>0.00</td>\n",
       "      <td>8.24</td>\n",
       "      <td>0.00</td>\n",
       "      <td>0.12</td>\n",
       "      <td>2.11</td>\n",
       "      <td>12.91</td>\n",
       "      <td>1.52</td>\n",
       "      <td>72.28</td>\n",
       "    </tr>\n",
       "    <tr>\n",
       "      <th>50%</th>\n",
       "      <td>1.36</td>\n",
       "      <td>0.00</td>\n",
       "      <td>8.60</td>\n",
       "      <td>0.00</td>\n",
       "      <td>0.56</td>\n",
       "      <td>3.48</td>\n",
       "      <td>13.30</td>\n",
       "      <td>1.52</td>\n",
       "      <td>72.79</td>\n",
       "    </tr>\n",
       "    <tr>\n",
       "      <th>75%</th>\n",
       "      <td>1.63</td>\n",
       "      <td>0.00</td>\n",
       "      <td>9.17</td>\n",
       "      <td>0.10</td>\n",
       "      <td>0.61</td>\n",
       "      <td>3.60</td>\n",
       "      <td>13.82</td>\n",
       "      <td>1.52</td>\n",
       "      <td>73.09</td>\n",
       "    </tr>\n",
       "    <tr>\n",
       "      <th>max</th>\n",
       "      <td>3.50</td>\n",
       "      <td>3.15</td>\n",
       "      <td>16.19</td>\n",
       "      <td>0.51</td>\n",
       "      <td>6.21</td>\n",
       "      <td>4.49</td>\n",
       "      <td>17.38</td>\n",
       "      <td>1.53</td>\n",
       "      <td>75.41</td>\n",
       "    </tr>\n",
       "  </tbody>\n",
       "</table>\n",
       "</div>"
      ],
      "text/plain": [
       "           Al      Ba      Ca      Fe       K      Mg      Na      RI      Si\n",
       "count  214.00  214.00  214.00  214.00  214.00  214.00  214.00  214.00  214.00\n",
       "mean     1.44    0.18    8.96    0.06    0.50    2.68   13.41    1.52   72.65\n",
       "std      0.50    0.50    1.42    0.10    0.65    1.44    0.82    0.00    0.77\n",
       "min      0.29    0.00    5.43    0.00    0.00    0.00   10.73    1.51   69.81\n",
       "25%      1.19    0.00    8.24    0.00    0.12    2.11   12.91    1.52   72.28\n",
       "50%      1.36    0.00    8.60    0.00    0.56    3.48   13.30    1.52   72.79\n",
       "75%      1.63    0.00    9.17    0.10    0.61    3.60   13.82    1.52   73.09\n",
       "max      3.50    3.15   16.19    0.51    6.21    4.49   17.38    1.53   75.41"
      ]
     },
     "execution_count": 76,
     "metadata": {},
     "output_type": "execute_result"
    }
   ],
   "source": [
    "glass_df[glass_df.columns.difference(['Type'])].describe().round(2)"
   ]
  },
  {
   "cell_type": "markdown",
   "id": "3bb7841f",
   "metadata": {},
   "source": [
    "Measures of central tendency:\n",
    "- Si is the primary element in the glass composition, average accounting for 72.65%.\n",
    "- The second and third element in glass concentration are Na and Ca, for the figures of 13% and 9% respectively. \n",
    "- Compared to Si, other elements have marginal content, with below 5% in average. \n",
    "\n",
    "Variability: The variability of the elements will be assessed by the coefficient of variation. By that, they are divided into two groups of low and high variability. This division supports the exploration in the following stage."
   ]
  },
  {
   "cell_type": "code",
   "execution_count": 75,
   "id": "8ea1c0f9",
   "metadata": {},
   "outputs": [
    {
     "name": "stdout",
     "output_type": "stream",
     "text": [
      "---LOW VARIABILITY GROUP---\n",
      "Na: 6.09\n",
      "Al: 34.55\n",
      "Si: 1.07\n",
      "Ca: 15.89\n",
      "---HIGH VARIABILITY GROUP---\n",
      "Mg: 53.73\n",
      "K: 131.21\n",
      "Ba: 284.05\n",
      "Fe: 170.92\n"
     ]
    }
   ],
   "source": [
    "# Define the coefficient of variation \n",
    "def calc_cov(data, element):\n",
    "    std = data[element].std()\n",
    "    mean = data[element].mean()\n",
    "    return ((std/mean) * 100)\n",
    "\n",
    "threshold = 50\n",
    "# Divide the chemical elements into two groups based on variability\n",
    "high_var = dict()\n",
    "low_var = dict()\n",
    "for e in elements:\n",
    "    cov = calc_cov(glass_df, e)\n",
    "    if (cov > threshold):\n",
    "        high_var[e] = cov\n",
    "    else:\n",
    "        low_var[e] = cov\n",
    "print('---LOW VARIABILITY GROUP---')\n",
    "for k,v in low_var.items():\n",
    "    print(k + ': %.2f' %(v))\n",
    "print('---HIGH VARIABILITY GROUP---')\n",
    "for k,v in high_var.items():\n",
    "    print(k + ': %.2f' %(v))"
   ]
  },
  {
   "cell_type": "code",
   "execution_count": 39,
   "id": "865a632a",
   "metadata": {},
   "outputs": [
    {
     "data": {
      "text/plain": [
       "Text(0.5, 0.98, 'Chemical element distribution in glass')"
      ]
     },
     "execution_count": 39,
     "metadata": {},
     "output_type": "execute_result"
    },
    {
     "data": {
      "image/png": "[encoded data removed]",
      "text/plain": [
       "<Figure size 1080x1080 with 9 Axes>"
      ]
     },
     "metadata": {
      "needs_background": "light"
     },
     "output_type": "display_data"
    }
   ],
   "source": [
    "# Plot histogram for each column\n",
    "fig, axes = plt.subplots(3,3, figsize=(15,15))\n",
    "\n",
    "for i in range(len(headers) - 1):\n",
    "    ax = axes.flatten()[i]\n",
    "    glass_df.hist(column=headers[i], ax=ax)\n",
    "    ax.set_title(headers[i])\n",
    "    ax.set_xlabel('Weight percent')\n",
    "    ax.set_ylabel('Frequency')\n",
    "fig.suptitle('Chemical element distribution in glass', fontsize=15, fontweight='bold')"
   ]
  },
  {
   "cell_type": "code",
   "execution_count": 68,
   "id": "baf4ac10",
   "metadata": {},
   "outputs": [
    {
     "data": {
      "text/plain": [
       "Text(0, 0.5, 'Number of samples')"
      ]
     },
     "execution_count": 68,
     "metadata": {},
     "output_type": "execute_result"
    },
    {
     "data": {
      "image/png": "[encoded data removed]",
      "text/plain": [
       "<Figure size 720x432 with 1 Axes>"
      ]
     },
     "metadata": {
      "needs_background": "light"
     },
     "output_type": "display_data"
    }
   ],
   "source": [
    "# Number of samples in each glass category\n",
    "plt.figure(figsize=(10,6))\n",
    "sns.countplot( data=glass_df, x='Type', palette='coolwarm')\n",
    "plt.title('The number of samples in each glass type')\n",
    "plt.ylabel('Number of samples')"
   ]
  },
  {
   "cell_type": "markdown",
   "id": "aced2803",
   "metadata": {},
   "source": [
    "## Bivariate analysis"
   ]
  },
  {
   "cell_type": "markdown",
   "id": "5c6885cc",
   "metadata": {},
   "source": [
    "### Find the potential correlation among features"
   ]
  },
  {
   "cell_type": "markdown",
   "id": "81c47326",
   "metadata": {},
   "source": [
    "We can start by spotting any strong correlation between the chemical elements, or a chemical elements vs refractive index.\n",
    "- Ca and RI have the strong positive correlation at 0.8, while the others have a relatively low relationship with one another. We further investigate the relationship between Ca and RI.\n",
    "- In terms of negative correlation, no pair of attributes have a correlation rate close to -1."
   ]
  },
  {
   "cell_type": "code",
   "execution_count": 15,
   "id": "4057ad7e",
   "metadata": {},
   "outputs": [
    {
     "data": {
      "image/png": "[encoded data removed]",
      "text/plain": [
       "<Figure size 720x432 with 2 Axes>"
      ]
     },
     "metadata": {
      "needs_background": "light"
     },
     "output_type": "display_data"
    }
   ],
   "source": [
    "corr_matrix = glass_df[glass_df.columns.difference(['Type'])].corr()\n",
    "plt.figure(figsize=(10, 6))\n",
    "sns.heatmap(corr_matrix, cmap='coolwarm')\n",
    "plt.title('Correlation between features')\n",
    "plt.show()"
   ]
  },
  {
   "cell_type": "markdown",
   "id": "e0fe9899",
   "metadata": {},
   "source": [
    "### Hypothese 1: The distribution of elements in the low variability group is consistent amongst glass types"
   ]
  },
  {
   "cell_type": "code",
   "execution_count": 16,
   "id": "0c815e1b",
   "metadata": {},
   "outputs": [
    {
     "data": {
      "image/png": "[encoded data removed]",
      "text/plain": [
       "<Figure size 720x432 with 1 Axes>"
      ]
     },
     "metadata": {
      "needs_background": "light"
     },
     "output_type": "display_data"
    }
   ],
   "source": [
    "# Scatter plot of Ca vs RI\n",
    "plt.figure(figsize=(10, 6))\n",
    "sns.scatterplot(x='Ca', y='RI', data=glass_df, palette='Set1', s=100)\n",
    "plt.title('Relationship between Ca and RI')\n",
    "plt.xlabel('Calcium (Ca)')\n",
    "plt.ylabel('Refractive Index (RI)')\n",
    "plt.show()"
   ]
  },
  {
   "cell_type": "markdown",
   "id": "179f6d8e",
   "metadata": {},
   "source": [
    "It can be seen that higher Ca content is associated with higher RI. This indicates that Ca is likely to be a predictor for RI. By that, we can consider remove one of the attributes in the feature selection stage, so as to simplify the dataset and potential enhance the model performance."
   ]
  },
  {
   "cell_type": "markdown",
   "id": "92e5c1a0",
   "metadata": {},
   "source": [
    "### Hypothesis 2: All glass types have consistent range of refractive index (RI) values"
   ]
  },
  {
   "cell_type": "code",
   "execution_count": 17,
   "id": "92b36121",
   "metadata": {},
   "outputs": [
    {
     "data": {
      "image/png": "[encoded data removed]",
      "text/plain": [
       "<Figure size 720x432 with 1 Axes>"
      ]
     },
     "metadata": {
      "needs_background": "light"
     },
     "output_type": "display_data"
    }
   ],
   "source": [
    "plt.figure(figsize=(10, 6))\n",
    "sns.boxplot(x='Type', y='RI', data=glass_df)\n",
    "plt.title('Distribution of RI by Glass Type')\n",
    "plt.xlabel('Glass Type')\n",
    "plt.ylabel('Refractive index (RI)')\n",
    "plt.show()"
   ]
  },
  {
   "cell_type": "markdown",
   "id": "39c4b118",
   "metadata": {},
   "source": [
    "### Hypothese 3: There is no significant difference in the distribution of Fe amongst glass types"
   ]
  },
  {
   "cell_type": "code",
   "execution_count": 18,
   "id": "46327cfa",
   "metadata": {},
   "outputs": [
    {
     "data": {
      "image/png": "[encoded data removed]",
      "text/plain": [
       "<Figure size 864x360 with 2 Axes>"
      ]
     },
     "metadata": {
      "needs_background": "light"
     },
     "output_type": "display_data"
    }
   ],
   "source": [
    "# Bar chart to show proportion of glass types with no Fe\n",
    "fig, axes = plt.subplots(1,2, figsize=(12,5))\n",
    "avg_fe = glass_df['Fe'].mean()\n",
    "\n",
    "sns.barplot(ax=axes[0], x='Type', y='Fe', data=glass_df, ci=None, palette='coolwarm')\n",
    "axes[0].set_title('Average Fe proportion in each glass type')\n",
    "axes[0].set_xlabel('Glass Type')\n",
    "axes[0].set_ylabel('Fe (weight percent)')\n",
    "axes[0].axhline(avg_fe, label='Average Fe proportion')\n",
    "\n",
    "sns.boxplot(ax=axes[1], x='Type', y='Fe', data=glass_df, palette='flare')\n",
    "axes[1].set_title('The distribution of Fe in each glass type')\n",
    "axes[1].set_xlabel('Glass Type')\n",
    "axes[1].set_ylabel('Fe (weight percent)')\n",
    "plt.tight_layout()\n",
    "plt.show()"
   ]
  },
  {
   "cell_type": "markdown",
   "id": "885245db",
   "metadata": {},
   "source": [
    "### Hypothese 4: The Ba proportion in different glass types is  relatively consistent"
   ]
  },
  {
   "cell_type": "code",
   "execution_count": 19,
   "id": "107563d1",
   "metadata": {},
   "outputs": [
    {
     "data": {
      "image/png": "[encoded data removed]",
      "text/plain": [
       "<Figure size 720x432 with 1 Axes>"
      ]
     },
     "metadata": {
      "needs_background": "light"
     },
     "output_type": "display_data"
    }
   ],
   "source": [
    "plt.figure(figsize=(10, 6))\n",
    "sns.barplot(x='Type', y='Ba', data=glass_df, ci=None, palette='flare')\n",
    "plt.title('Average Ba proportion in each glass type')\n",
    "plt.xlabel('Glass Type')\n",
    "plt.ylabel('Ba (weight percent)')\n",
    "plt.show()"
   ]
  },
  {
   "cell_type": "markdown",
   "id": "d9326f66",
   "metadata": {},
   "source": [
    "### Hypothese 5: There is a low variability in K proportion amongst glass types"
   ]
  },
  {
   "cell_type": "code",
   "execution_count": 20,
   "id": "29c4e504",
   "metadata": {},
   "outputs": [
    {
     "data": {
      "image/png": "[encoded data removed]",
      "text/plain": [
       "<Figure size 720x432 with 1 Axes>"
      ]
     },
     "metadata": {
      "needs_background": "light"
     },
     "output_type": "display_data"
    }
   ],
   "source": [
    "plt.figure(figsize=(10, 6))\n",
    "sns.barplot(x='Type', y='K', data=glass_df, ci=None, palette='flare')\n",
    "plt.title('Average K proportion in each glass type')\n",
    "plt.xlabel('Glass Type')\n",
    "plt.ylabel('K (weight percent)')\n",
    "plt.show()"
   ]
  },
  {
   "cell_type": "markdown",
   "id": "f6c6d45b",
   "metadata": {},
   "source": [
    "### Hypothese:  The Si content is relatively consistent across all glass types"
   ]
  },
  {
   "cell_type": "code",
   "execution_count": 21,
   "id": "d84f9317",
   "metadata": {},
   "outputs": [
    {
     "data": {
      "image/png": "[encoded data removed]",
      "text/plain": [
       "<Figure size 720x432 with 1 Axes>"
      ]
     },
     "metadata": {
      "needs_background": "light"
     },
     "output_type": "display_data"
    }
   ],
   "source": [
    "plt.figure(figsize=(10, 6))\n",
    "sns.boxplot(x='Type', y='Si', data=glass_df)\n",
    "plt.title('Distribution of Si by Glass Type')\n",
    "plt.xlabel('Glass Type')\n",
    "plt.ylabel('Si (weight percent)')\n",
    "plt.show()"
   ]
  },
  {
   "cell_type": "markdown",
   "id": "78e06b6d",
   "metadata": {},
   "source": [
    "### Hypothese: The distribution of Al is consistent amongst all glass types"
   ]
  },
  {
   "cell_type": "code",
   "execution_count": 22,
   "id": "bba349b9",
   "metadata": {},
   "outputs": [
    {
     "data": {
      "image/png": "[encoded data removed]",
      "text/plain": [
       "<Figure size 720x432 with 1 Axes>"
      ]
     },
     "metadata": {
      "needs_background": "light"
     },
     "output_type": "display_data"
    }
   ],
   "source": [
    "plt.figure(figsize=(10, 6))\n",
    "sns.barplot(x='Type', y='Al', data=glass_df, ci=None, palette='coolwarm')\n",
    "plt.title('Average Al proportion in each glass type')\n",
    "plt.xlabel('Glass Type')\n",
    "plt.ylabel('Al (weight percent)')\n",
    "plt.show()"
   ]
  },
  {
   "cell_type": "markdown",
   "id": "d0dadc4d",
   "metadata": {},
   "source": [
    "# Data modelling"
   ]
  }
 ],
 "metadata": {
  "kernelspec": {
   "display_name": "Python 3",
   "language": "python",
   "name": "python3"
  },
  "language_info": {
   "codemirror_mode": {
    "name": "ipython",
    "version": 3
   },
   "file_extension": ".py",
   "mimetype": "text/x-python",
   "name": "python",
   "nbconvert_exporter": "python",
   "pygments_lexer": "ipython3",
   "version": "3.8.8"
  }
 },
 "nbformat": 4,
 "nbformat_minor": 5
}
